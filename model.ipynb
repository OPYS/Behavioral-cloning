{
 "cells": [
  {
   "cell_type": "code",
   "execution_count": 9,
   "metadata": {
    "collapsed": false
   },
   "outputs": [],
   "source": [
    "import numpy as np\n",
    "from keras.applications.inception_v3 import InceptionV3\n",
    "from keras.preprocessing import image\n",
    "from keras.models import Model\n",
    "from keras.layers import Dense, GlobalAveragePooling2D\n",
    "from keras import backend as K\n",
    "from keras.layers.core import Flatten, Dense, Dropout\n",
    "import pickle\n",
    "from scipy import misc\n",
    "from scipy.misc import imresize\n",
    "from PIL import Image\n",
    "import glob, os\n",
    "import cv2\n",
    "import csv\n",
    "import math\n",
    "import tensorflow as tf\n",
    "from tqdm import tqdm\n",
    "import matplotlib.pyplot as plt\n",
    "from keras.optimizers import SGD, Adam, RMSprop\n",
    "from keras.utils import np_utils\n",
    "from sklearn.model_selection import train_test_split\n",
    "from keras.layers import Convolution2D, MaxPooling2D\n",
    "from keras.models import Sequential\n",
    "from keras.layers import Dense, Activation, Dropout, Flatten\n",
    "import json"
   ]
  },
  {
   "cell_type": "code",
   "execution_count": 2,
   "metadata": {
    "collapsed": true
   },
   "outputs": [],
   "source": [
    "learning_rate = 0.00001\n",
    "batch_size = 20\n",
    "nb_epoch = 3"
   ]
  },
  {
   "cell_type": "code",
   "execution_count": 3,
   "metadata": {
    "collapsed": false
   },
   "outputs": [],
   "source": [
    "model = Sequential()\n",
    "model.add(Convolution2D(24, 5, 5,border_mode='valid',subsample=(2,2),  input_shape=(66,200,3)))\n",
    "model.add(Convolution2D(36, 5, 5, border_mode='valid',subsample=(2,2)))\n",
    "model.add(Convolution2D(48, 5, 5,subsample=(2,2)))\n",
    "model.add(Convolution2D(64, 3, 3))\n",
    "model.add(Convolution2D(64, 3, 3))\n",
    "model.add(Flatten())\n",
    "model.add(Dense((1164), activation='relu'))\n",
    "model.add(Dense(100,activation='relu'))\n",
    "model.add(Dense(50))\n",
    "model.add(Dense(10))\n",
    "model.add(Dense(1,name='output'))\n"
   ]
  },
  {
   "cell_type": "code",
   "execution_count": 4,
   "metadata": {
    "collapsed": false
   },
   "outputs": [
    {
     "name": "stdout",
     "output_type": "stream",
     "text": [
      "(2062, 66, 200, 3)\n"
     ]
    }
   ],
   "source": [
    "images_list = []\n",
    "\n",
    "for infile in glob.glob(\"IMG/*.jpg\"):\n",
    "    image = misc.imread(infile)\n",
    "    image = misc.imresize(image, (66,200))\n",
    "    images_list.append(image)\n",
    "    \n",
    "X_train = np.stack(images_list)\n",
    "print(X_train.shape)"
   ]
  },
  {
   "cell_type": "code",
   "execution_count": 5,
   "metadata": {
    "collapsed": false
   },
   "outputs": [
    {
     "name": "stdout",
     "output_type": "stream",
     "text": [
      "(2062, 66, 200, 3)\n",
      "Data normalized\n"
     ]
    }
   ],
   "source": [
    "def normalize(image_data):\n",
    "    \"\"\"\n",
    "    Normalize the image data with Min-Max scaling to a range of [-0.5, 0.5]\n",
    "    :param image_data: The image data to be normalized\n",
    "    :return: Normalized image data\n",
    "    \"\"\"\n",
    "    #costants\n",
    "    a = -0.5\n",
    "    b = 0.5\n",
    "    xmin = np.min(image_data)\n",
    "    xmax = np.max(image_data) \n",
    "    \n",
    "    x = image_data    \n",
    "    x_prime = a + ((x-xmin)*(b-a))/(xmax-xmin)\n",
    "    \n",
    "    return x_prime\n",
    "\n",
    "X_train = normalize(X_train)\n",
    "print(X_train.shape)\n",
    "print('Data normalized')"
   ]
  },
  {
   "cell_type": "code",
   "execution_count": 6,
   "metadata": {
    "collapsed": false
   },
   "outputs": [
    {
     "name": "stdout",
     "output_type": "stream",
     "text": [
      "(2062,)\n"
     ]
    }
   ],
   "source": [
    "with open('driving_log.csv','r') as file:\n",
    "    datareader = csv.reader(file,delimiter=',')\n",
    "    driving_log = []\n",
    "    for row in datareader:\n",
    "        driving_log.append(row)\n",
    "        \n",
    "log = np.stack(driving_log)\n",
    "#print(log.shape)\n",
    "\n",
    "#labels\n",
    "y_train = np.zeros(log.shape[0])\n",
    "for i,row in enumerate(log):\n",
    "    y_train[i] = log[i][3]\n",
    "    \n",
    "    \n",
    "print (y_train.shape)"
   ]
  },
  {
   "cell_type": "code",
   "execution_count": 10,
   "metadata": {
    "collapsed": false
   },
   "outputs": [
    {
     "name": "stdout",
     "output_type": "stream",
     "text": [
      "Train on 1443 samples, validate on 619 samples\n",
      "Epoch 1/3\n",
      "1443/1443 [==============================] - 74s - loss: 0.0419 - acc: 0.7547 - val_loss: 0.0202 - val_acc: 0.7884\n",
      "Epoch 2/3\n",
      "1443/1443 [==============================] - 36s - loss: 0.0414 - acc: 0.7547 - val_loss: 0.0203 - val_acc: 0.7884\n",
      "Epoch 3/3\n",
      "1443/1443 [==============================] - 68s - loss: 0.0408 - acc: 0.7547 - val_loss: 0.0205 - val_acc: 0.7884\n"
     ]
    }
   ],
   "source": [
    "optimizer = Adam(lr=learning_rate)\n",
    "model.compile(loss='mean_squared_error', optimizer=optimizer, metrics=['accuracy'])\n",
    "history = model.fit(X_train, y_train, batch_size=batch_size, nb_epoch=nb_epoch, validation_split=0.3, shuffle=True)"
   ]
  },
  {
   "cell_type": "code",
   "execution_count": 12,
   "metadata": {
    "collapsed": false
   },
   "outputs": [
    {
     "name": "stdout",
     "output_type": "stream",
     "text": [
      "0.754677756495\n"
     ]
    }
   ],
   "source": [
    "print(history.history['acc'][-1])"
   ]
  },
  {
   "cell_type": "code",
   "execution_count": 13,
   "metadata": {
    "collapsed": false
   },
   "outputs": [],
   "source": [
    "json_string = model.to_json()\n",
    "with open('model.json','w') as f:\n",
    "    json.dump(json_string,f,ensure_ascii=False)\n",
    "\n",
    "model.save_weights('model.h5')"
   ]
  },
  {
   "cell_type": "code",
   "execution_count": null,
   "metadata": {
    "collapsed": true
   },
   "outputs": [],
   "source": []
  }
 ],
 "metadata": {
  "kernelspec": {
   "display_name": "Python 3",
   "language": "python",
   "name": "python3"
  },
  "language_info": {
   "codemirror_mode": {
    "name": "ipython",
    "version": 3
   },
   "file_extension": ".py",
   "mimetype": "text/x-python",
   "name": "python",
   "nbconvert_exporter": "python",
   "pygments_lexer": "ipython3",
   "version": "3.5.2"
  },
  "widgets": {
   "state": {},
   "version": "1.1.2"
  }
 },
 "nbformat": 4,
 "nbformat_minor": 1
}
